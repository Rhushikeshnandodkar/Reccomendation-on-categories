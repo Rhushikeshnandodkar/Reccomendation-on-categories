{
 "cells": [
  {
   "cell_type": "code",
   "execution_count": 4,
   "id": "3ebb224a-b463-4031-b02d-aea4bdda264c",
   "metadata": {},
   "outputs": [],
   "source": [
    "import pandas as pd\n",
    "\n",
    "splits = {'train': 'data/train-00000-of-00001-2d193952f0849bbc.parquet', 'test': 'data/test-00000-of-00001-fb3536c9c871f904.parquet'}\n",
    "df = pd.read_parquet(\"hf://datasets/fazni/role-based-on-skills-2.0/\" + splits[\"train\"])"
   ]
  },
  {
   "cell_type": "code",
   "execution_count": 5,
   "id": "083a3f65-6d65-4474-b4a1-d4a8211428ac",
   "metadata": {},
   "outputs": [
    {
     "data": {
      "text/html": [
       "<div>\n",
       "<style scoped>\n",
       "    .dataframe tbody tr th:only-of-type {\n",
       "        vertical-align: middle;\n",
       "    }\n",
       "\n",
       "    .dataframe tbody tr th {\n",
       "        vertical-align: top;\n",
       "    }\n",
       "\n",
       "    .dataframe thead th {\n",
       "        text-align: right;\n",
       "    }\n",
       "</style>\n",
       "<table border=\"1\" class=\"dataframe\">\n",
       "  <thead>\n",
       "    <tr style=\"text-align: right;\">\n",
       "      <th></th>\n",
       "      <th>Role</th>\n",
       "      <th>text</th>\n",
       "      <th>label</th>\n",
       "      <th>__index_level_0__</th>\n",
       "    </tr>\n",
       "  </thead>\n",
       "  <tbody>\n",
       "    <tr>\n",
       "      <th>0</th>\n",
       "      <td>Mobile App Developer</td>\n",
       "      <td>Java JavaScript Android Development PHP HTML S...</td>\n",
       "      <td>6</td>\n",
       "      <td>2480</td>\n",
       "    </tr>\n",
       "    <tr>\n",
       "      <th>1</th>\n",
       "      <td>Machine Learning Engineer</td>\n",
       "      <td>Python Programming Language SQL Machine Learni...</td>\n",
       "      <td>5</td>\n",
       "      <td>3525</td>\n",
       "    </tr>\n",
       "    <tr>\n",
       "      <th>2</th>\n",
       "      <td>Network Engineer</td>\n",
       "      <td>MySQL Shell Scripting Linux Ubuntu Windows Net...</td>\n",
       "      <td>7</td>\n",
       "      <td>2281</td>\n",
       "    </tr>\n",
       "    <tr>\n",
       "      <th>3</th>\n",
       "      <td>Business Analyst</td>\n",
       "      <td>Java Project Management Microsoft Office HTML ...</td>\n",
       "      <td>0</td>\n",
       "      <td>1293</td>\n",
       "    </tr>\n",
       "    <tr>\n",
       "      <th>4</th>\n",
       "      <td>DevOps</td>\n",
       "      <td>PostgreSQL Teamwork Microsoft Azure Amazon Web...</td>\n",
       "      <td>4</td>\n",
       "      <td>3178</td>\n",
       "    </tr>\n",
       "  </tbody>\n",
       "</table>\n",
       "</div>"
      ],
      "text/plain": [
       "                        Role  \\\n",
       "0       Mobile App Developer   \n",
       "1  Machine Learning Engineer   \n",
       "2           Network Engineer   \n",
       "3           Business Analyst   \n",
       "4                     DevOps   \n",
       "\n",
       "                                                text  label  __index_level_0__  \n",
       "0  Java JavaScript Android Development PHP HTML S...      6               2480  \n",
       "1  Python Programming Language SQL Machine Learni...      5               3525  \n",
       "2  MySQL Shell Scripting Linux Ubuntu Windows Net...      7               2281  \n",
       "3  Java Project Management Microsoft Office HTML ...      0               1293  \n",
       "4  PostgreSQL Teamwork Microsoft Azure Amazon Web...      4               3178  "
      ]
     },
     "execution_count": 5,
     "metadata": {},
     "output_type": "execute_result"
    }
   ],
   "source": [
    "df.head()"
   ]
  },
  {
   "cell_type": "code",
   "execution_count": 6,
   "id": "784f626c-dab1-476c-9e91-b9ef4fa434ef",
   "metadata": {},
   "outputs": [
    {
     "data": {
      "text/plain": [
       "0       Java JavaScript Android Development PHP HTML S...\n",
       "1       Python Programming Language SQL Machine Learni...\n",
       "2       MySQL Shell Scripting Linux Ubuntu Windows Net...\n",
       "3       Java Project Management Microsoft Office HTML ...\n",
       "4       PostgreSQL Teamwork Microsoft Azure Amazon Web...\n",
       "                              ...                        \n",
       "3655    Java C Data Analysis Microsoft Office Leadersh...\n",
       "3656    Java JavaScript PHP C HTML Programming MySQL C...\n",
       "3657    SQL Shell Scripting Linux Agile Methodologies ...\n",
       "3658    Java Python Programming Language Data Analysis...\n",
       "3659                                                  ...\n",
       "Name: text, Length: 3660, dtype: object"
      ]
     },
     "execution_count": 6,
     "metadata": {},
     "output_type": "execute_result"
    }
   ],
   "source": [
    "df['text']"
   ]
  },
  {
   "cell_type": "code",
   "execution_count": 7,
   "id": "b7162834-6ca4-48cc-b814-2887b6049f0c",
   "metadata": {},
   "outputs": [
    {
     "data": {
      "text/plain": [
       "Role                 0\n",
       "text                 0\n",
       "label                0\n",
       "__index_level_0__    0\n",
       "dtype: int64"
      ]
     },
     "execution_count": 7,
     "metadata": {},
     "output_type": "execute_result"
    }
   ],
   "source": [
    "df.isnull().sum()"
   ]
  },
  {
   "cell_type": "code",
   "execution_count": 9,
   "id": "75269f48-e3dd-42bd-a5b3-79139d0c751f",
   "metadata": {},
   "outputs": [],
   "source": [
    "df['text'] = df['text'].apply(lambda x: str(x).split())"
   ]
  },
  {
   "cell_type": "code",
   "execution_count": 11,
   "id": "cf238862-4740-4995-9f84-cac12b35fc38",
   "metadata": {},
   "outputs": [
    {
     "data": {
      "text/html": [
       "<div>\n",
       "<style scoped>\n",
       "    .dataframe tbody tr th:only-of-type {\n",
       "        vertical-align: middle;\n",
       "    }\n",
       "\n",
       "    .dataframe tbody tr th {\n",
       "        vertical-align: top;\n",
       "    }\n",
       "\n",
       "    .dataframe thead th {\n",
       "        text-align: right;\n",
       "    }\n",
       "</style>\n",
       "<table border=\"1\" class=\"dataframe\">\n",
       "  <thead>\n",
       "    <tr style=\"text-align: right;\">\n",
       "      <th></th>\n",
       "      <th>Role</th>\n",
       "      <th>text</th>\n",
       "      <th>label</th>\n",
       "      <th>__index_level_0__</th>\n",
       "    </tr>\n",
       "  </thead>\n",
       "  <tbody>\n",
       "    <tr>\n",
       "      <th>0</th>\n",
       "      <td>Mobile App Developer</td>\n",
       "      <td>[Java, JavaScript, Android, Development, PHP, ...</td>\n",
       "      <td>6</td>\n",
       "      <td>2480</td>\n",
       "    </tr>\n",
       "    <tr>\n",
       "      <th>1</th>\n",
       "      <td>Machine Learning Engineer</td>\n",
       "      <td>[Python, Programming, Language, SQL, Machine, ...</td>\n",
       "      <td>5</td>\n",
       "      <td>3525</td>\n",
       "    </tr>\n",
       "    <tr>\n",
       "      <th>2</th>\n",
       "      <td>Network Engineer</td>\n",
       "      <td>[MySQL, Shell, Scripting, Linux, Ubuntu, Windo...</td>\n",
       "      <td>7</td>\n",
       "      <td>2281</td>\n",
       "    </tr>\n",
       "    <tr>\n",
       "      <th>3</th>\n",
       "      <td>Business Analyst</td>\n",
       "      <td>[Java, Project, Management, Microsoft, Office,...</td>\n",
       "      <td>0</td>\n",
       "      <td>1293</td>\n",
       "    </tr>\n",
       "    <tr>\n",
       "      <th>4</th>\n",
       "      <td>DevOps</td>\n",
       "      <td>[PostgreSQL, Teamwork, Microsoft, Azure, Amazo...</td>\n",
       "      <td>4</td>\n",
       "      <td>3178</td>\n",
       "    </tr>\n",
       "  </tbody>\n",
       "</table>\n",
       "</div>"
      ],
      "text/plain": [
       "                        Role  \\\n",
       "0       Mobile App Developer   \n",
       "1  Machine Learning Engineer   \n",
       "2           Network Engineer   \n",
       "3           Business Analyst   \n",
       "4                     DevOps   \n",
       "\n",
       "                                                text  label  __index_level_0__  \n",
       "0  [Java, JavaScript, Android, Development, PHP, ...      6               2480  \n",
       "1  [Python, Programming, Language, SQL, Machine, ...      5               3525  \n",
       "2  [MySQL, Shell, Scripting, Linux, Ubuntu, Windo...      7               2281  \n",
       "3  [Java, Project, Management, Microsoft, Office,...      0               1293  \n",
       "4  [PostgreSQL, Teamwork, Microsoft, Azure, Amazo...      4               3178  "
      ]
     },
     "execution_count": 11,
     "metadata": {},
     "output_type": "execute_result"
    }
   ],
   "source": [
    "df.head()"
   ]
  },
  {
   "cell_type": "code",
   "execution_count": 16,
   "id": "f6514205-6a59-4475-85cb-f80c116d6a8b",
   "metadata": {},
   "outputs": [],
   "source": [
    "df['text'] = df['text'].astype(str)"
   ]
  },
  {
   "cell_type": "code",
   "execution_count": 22,
   "id": "6817fa5f-4ff5-4462-9a03-5699d46fcd4f",
   "metadata": {},
   "outputs": [
    {
     "data": {
      "text/plain": [
       "0       ['java', 'javascript', 'android', 'development...\n",
       "1       ['python', 'programming', 'language', 'sql', '...\n",
       "2       ['mysql', 'shell', 'scripting', 'linux', 'ubun...\n",
       "3       ['java', 'project', 'management', 'microsoft',...\n",
       "4       ['postgresql', 'teamwork', 'microsoft', 'azure...\n",
       "                              ...                        \n",
       "3655    ['java', 'c', 'data', 'analysis', 'microsoft',...\n",
       "3656    ['java', 'javascript', 'php', 'c', 'html', 'pr...\n",
       "3657    ['sql', 'shell', 'scripting', 'linux', 'agile'...\n",
       "3658    ['java', 'python', 'programming', 'language', ...\n",
       "3659    ['bachelor', 'of', 'science', 'university', 'c...\n",
       "Name: text, Length: 3660, dtype: object"
      ]
     },
     "execution_count": 22,
     "metadata": {},
     "output_type": "execute_result"
    }
   ],
   "source": [
    "from nltk.stem.porter import PorterStemmer\n",
    "\n",
    "def stem(text):\n",
    "    y = []\n",
    "    for i in text.split():\n",
    "        y.append(ps.stem(i))\n",
    "    return \" \".join(y)\n",
    "    \n",
    "ps = PorterStemmer()\n",
    "df['text'].apply(stem)"
   ]
  },
  {
   "cell_type": "code",
   "execution_count": 111,
   "id": "711d56d0-c5ee-4b81-a554-a773c965e8bc",
   "metadata": {},
   "outputs": [],
   "source": [
    "from sklearn.feature_extraction.text import CountVectorizer\n",
    "cv = CountVectorizer(max_features=5000, stop_words='english')\n",
    "# vectors = cv.fit_transform(df['text']).toarray()"
   ]
  },
  {
   "cell_type": "code",
   "execution_count": 112,
   "id": "f8f70341-e2ab-455d-a205-34fe04d9ef5e",
   "metadata": {},
   "outputs": [],
   "source": [
    "vectors = cv.fit_transform(df['text']).toarray()"
   ]
  },
  {
   "cell_type": "code",
   "execution_count": 113,
   "id": "20fc565b-f2f2-4851-b479-6c5fee7a23f8",
   "metadata": {},
   "outputs": [
    {
     "data": {
      "text/plain": [
       "[array([0, 0, 0, ..., 0, 0, 0])]"
      ]
     },
     "execution_count": 113,
     "metadata": {},
     "output_type": "execute_result"
    }
   ],
   "source": [
    "[vectors[0]]"
   ]
  },
  {
   "cell_type": "code",
   "execution_count": 114,
   "id": "e0178767-23f5-4b1a-a23f-48f021e3e107",
   "metadata": {},
   "outputs": [
    {
     "data": {
      "text/plain": [
       "array([[0.02227177]])"
      ]
     },
     "execution_count": 114,
     "metadata": {},
     "output_type": "execute_result"
    }
   ],
   "source": [
    "cosine_similarity([vectors[0]], [vectors[1]])"
   ]
  },
  {
   "cell_type": "code",
   "execution_count": 130,
   "id": "dc9fe83a-8024-4dd2-9ef4-47885bdfeb52",
   "metadata": {},
   "outputs": [
    {
     "name": "stdout",
     "output_type": "stream",
     "text": [
      "['03' '04' '05' ... 'بكالوريوس' 'جامعة' 'جامعه']\n"
     ]
    }
   ],
   "source": [
    "print(cv.get_feature_names_out())"
   ]
  },
  {
   "cell_type": "code",
   "execution_count": 133,
   "id": "ef7d2025-7a38-4f8f-9028-682fa4240153",
   "metadata": {},
   "outputs": [
    {
     "name": "stdout",
     "output_type": "stream",
     "text": [
      "[[0.33333333]\n",
      " [0.        ]\n",
      " [0.        ]\n",
      " ...\n",
      " [0.        ]\n",
      " [0.07053456]\n",
      " [0.        ]]\n"
     ]
    }
   ],
   "source": [
    "\n",
    "sk_list = ['java', 'javascript', 'android']\n",
    "vector = []\n",
    "for feature in cv.get_feature_names_out():\n",
    "    # Check if the feature is in the skill list\n",
    "    if feature in sk_list:\n",
    "        vector.append(1)  # Skill is present\n",
    "    else:\n",
    "        vector.append(0)  # Skill is absent\n",
    "\n",
    "print(cosine_similarity(vectors, [vector]))"
   ]
  },
  {
   "cell_type": "code",
   "execution_count": 47,
   "id": "8727eb29-e4d3-4cb0-ac96-e03e82c72a35",
   "metadata": {},
   "outputs": [],
   "source": [
    "def recommend(job_role):\n",
    "    job_index = df[df['Role'] == job_role].index[0]\n",
    "    distances = similarity[job_index]\n",
    "    job_lists = sorted(list(enumerate(distances)), reverse=True, key=lambda x:x[1])[1:6]\n",
    "    recommendations = []\n",
    "    for i in job_lists:\n",
    "        recommendations.append({\n",
    "            'Role' : df.iloc[i[0]].Role,\n",
    "            'Description' : df.iloc[i[0]].text,\n",
    "            'label' : df.iloc[i[0]].label,\n",
    "            'label' : df.iloc[i[0]].__index_level_0__,\n",
    "            \n",
    "        })\n",
    "        new_df = pd.DataFrame(recommendations)\n",
    "    return new_df\n",
    "        # print(df.iloc[i[0]].Role)"
   ]
  },
  {
   "cell_type": "code",
   "execution_count": 48,
   "id": "07b44212-32d7-435e-92da-458135d58354",
   "metadata": {},
   "outputs": [
    {
     "data": {
      "text/html": [
       "<div>\n",
       "<style scoped>\n",
       "    .dataframe tbody tr th:only-of-type {\n",
       "        vertical-align: middle;\n",
       "    }\n",
       "\n",
       "    .dataframe tbody tr th {\n",
       "        vertical-align: top;\n",
       "    }\n",
       "\n",
       "    .dataframe thead th {\n",
       "        text-align: right;\n",
       "    }\n",
       "</style>\n",
       "<table border=\"1\" class=\"dataframe\">\n",
       "  <thead>\n",
       "    <tr style=\"text-align: right;\">\n",
       "      <th></th>\n",
       "      <th>Role</th>\n",
       "      <th>Description</th>\n",
       "      <th>label</th>\n",
       "    </tr>\n",
       "  </thead>\n",
       "  <tbody>\n",
       "    <tr>\n",
       "      <th>0</th>\n",
       "      <td>Mobile App Developer</td>\n",
       "      <td>['Java', 'Android', 'Development', 'PHP', 'Mob...</td>\n",
       "      <td>2754</td>\n",
       "    </tr>\n",
       "    <tr>\n",
       "      <th>1</th>\n",
       "      <td>Mobile App Developer</td>\n",
       "      <td>['Java', 'JavaScript', 'Android', 'Development...</td>\n",
       "      <td>2690</td>\n",
       "    </tr>\n",
       "    <tr>\n",
       "      <th>2</th>\n",
       "      <td>Mobile App Developer</td>\n",
       "      <td>['JavaScript', 'Android', 'Development', 'HTML...</td>\n",
       "      <td>2604</td>\n",
       "    </tr>\n",
       "    <tr>\n",
       "      <th>3</th>\n",
       "      <td>Mobile App Developer</td>\n",
       "      <td>['Java', 'Android', 'Development', 'PHP', 'HTM...</td>\n",
       "      <td>2786</td>\n",
       "    </tr>\n",
       "    <tr>\n",
       "      <th>4</th>\n",
       "      <td>Mobile App Developer</td>\n",
       "      <td>['Java', 'JavaScript', 'PHP', 'Cascading', 'St...</td>\n",
       "      <td>2740</td>\n",
       "    </tr>\n",
       "  </tbody>\n",
       "</table>\n",
       "</div>"
      ],
      "text/plain": [
       "                   Role                                        Description  \\\n",
       "0  Mobile App Developer  ['Java', 'Android', 'Development', 'PHP', 'Mob...   \n",
       "1  Mobile App Developer  ['Java', 'JavaScript', 'Android', 'Development...   \n",
       "2  Mobile App Developer  ['JavaScript', 'Android', 'Development', 'HTML...   \n",
       "3  Mobile App Developer  ['Java', 'Android', 'Development', 'PHP', 'HTM...   \n",
       "4  Mobile App Developer  ['Java', 'JavaScript', 'PHP', 'Cascading', 'St...   \n",
       "\n",
       "   label  \n",
       "0   2754  \n",
       "1   2690  \n",
       "2   2604  \n",
       "3   2786  \n",
       "4   2740  "
      ]
     },
     "execution_count": 48,
     "metadata": {},
     "output_type": "execute_result"
    }
   ],
   "source": [
    "recommend('Mobile App Developer')"
   ]
  },
  {
   "cell_type": "code",
   "execution_count": 140,
   "id": "7bc415e8-7f5f-4884-b279-604e0e02d5c5",
   "metadata": {},
   "outputs": [],
   "source": [
    "import numpy as np\n",
    "def recommend_by_skills(skill_list):\n",
    "    vector = []\n",
    "    for feature in cv.get_feature_names_out():\n",
    "    # Check if the feature is in the skill list\n",
    "        if feature in skill_list:\n",
    "            vector.append(1)  # Skill is present\n",
    "        else:\n",
    "            vector.append(0) \n",
    "    similarity = cosine_similarity(vectors, [vector])\n",
    "    job_lists = sorted(list(enumerate(similarity)), reverse=True, key=lambda x:x[1])[1:6]\n",
    "    print(similarity)\n",
    "    recommendations = []\n",
    "    for i in job_lists:\n",
    "        recommendations.append({\n",
    "            'Role' : df.iloc[i[0]].Role,\n",
    "            'Description' : df.iloc[i[0]].text,\n",
    "            'label' : df.iloc[i[0]].label,\n",
    "            'label' : df.iloc[i[0]].__index_level_0__,\n",
    "            \n",
    "        })\n",
    "        new_df = pd.DataFrame(recommendations)\n",
    "    return new_df"
   ]
  },
  {
   "cell_type": "code",
   "execution_count": 146,
   "id": "c95fff0f-4337-4260-86bf-eaf8807ab14f",
   "metadata": {},
   "outputs": [
    {
     "name": "stdout",
     "output_type": "stream",
     "text": [
      "[[0.        ]\n",
      " [0.21821789]\n",
      " [0.        ]\n",
      " ...\n",
      " [0.        ]\n",
      " [0.25916053]\n",
      " [0.        ]]\n"
     ]
    },
    {
     "data": {
      "text/html": [
       "<div>\n",
       "<style scoped>\n",
       "    .dataframe tbody tr th:only-of-type {\n",
       "        vertical-align: middle;\n",
       "    }\n",
       "\n",
       "    .dataframe tbody tr th {\n",
       "        vertical-align: top;\n",
       "    }\n",
       "\n",
       "    .dataframe thead th {\n",
       "        text-align: right;\n",
       "    }\n",
       "</style>\n",
       "<table border=\"1\" class=\"dataframe\">\n",
       "  <thead>\n",
       "    <tr style=\"text-align: right;\">\n",
       "      <th></th>\n",
       "      <th>Role</th>\n",
       "      <th>Description</th>\n",
       "      <th>label</th>\n",
       "    </tr>\n",
       "  </thead>\n",
       "  <tbody>\n",
       "    <tr>\n",
       "      <th>0</th>\n",
       "      <td>Software Engineer</td>\n",
       "      <td>['Python', 'Programming', 'Language', 'python'...</td>\n",
       "      <td>3381</td>\n",
       "    </tr>\n",
       "    <tr>\n",
       "      <th>1</th>\n",
       "      <td>Data Engineer</td>\n",
       "      <td>['Java', 'JavaScript', 'Python', 'Programming'...</td>\n",
       "      <td>4040</td>\n",
       "    </tr>\n",
       "    <tr>\n",
       "      <th>2</th>\n",
       "      <td>Software Engineer</td>\n",
       "      <td>['Java', 'JavaScript', 'PHP', 'Cascading', 'St...</td>\n",
       "      <td>572</td>\n",
       "    </tr>\n",
       "    <tr>\n",
       "      <th>3</th>\n",
       "      <td>Data Engineer</td>\n",
       "      <td>['Java', 'JavaScript', 'Python', 'Programming'...</td>\n",
       "      <td>4091</td>\n",
       "    </tr>\n",
       "    <tr>\n",
       "      <th>4</th>\n",
       "      <td>Data Engineer</td>\n",
       "      <td>['Python', 'Programming', 'Language', 'HTML', ...</td>\n",
       "      <td>4001</td>\n",
       "    </tr>\n",
       "  </tbody>\n",
       "</table>\n",
       "</div>"
      ],
      "text/plain": [
       "                Role                                        Description  label\n",
       "0  Software Engineer  ['Python', 'Programming', 'Language', 'python'...   3381\n",
       "1      Data Engineer  ['Java', 'JavaScript', 'Python', 'Programming'...   4040\n",
       "2  Software Engineer  ['Java', 'JavaScript', 'PHP', 'Cascading', 'St...    572\n",
       "3      Data Engineer  ['Java', 'JavaScript', 'Python', 'Programming'...   4091\n",
       "4      Data Engineer  ['Python', 'Programming', 'Language', 'HTML', ...   4001"
      ]
     },
     "execution_count": 146,
     "metadata": {},
     "output_type": "execute_result"
    }
   ],
   "source": [
    "recommend_by_skills(['python', 'programming', 'Language', 'SQL', 'HTML',  'JavaScript'])"
   ]
  },
  {
   "cell_type": "code",
   "execution_count": null,
   "id": "b79824cd-386d-431b-8e8f-d3b15c8d1d9e",
   "metadata": {},
   "outputs": [],
   "source": [
    "df[df['label'] =]"
   ]
  }
 ],
 "metadata": {
  "kernelspec": {
   "display_name": "Python 3 (ipykernel)",
   "language": "python",
   "name": "python3"
  },
  "language_info": {
   "codemirror_mode": {
    "name": "ipython",
    "version": 3
   },
   "file_extension": ".py",
   "mimetype": "text/x-python",
   "name": "python",
   "nbconvert_exporter": "python",
   "pygments_lexer": "ipython3",
   "version": "3.12.3"
  }
 },
 "nbformat": 4,
 "nbformat_minor": 5
}
